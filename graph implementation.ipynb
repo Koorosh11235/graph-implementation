{
 "cells": [
  {
   "cell_type": "code",
   "execution_count": 2,
   "id": "3849cde6",
   "metadata": {},
   "outputs": [],
   "source": [
    "from collections import namedtuple\n",
    "# we need named tuples "
   ]
  },
  {
   "cell_type": "code",
   "execution_count": 64,
   "id": "64e4aa7e",
   "metadata": {},
   "outputs": [
    {
     "name": "stdout",
     "output_type": "stream",
     "text": [
      "{frozenset({2, 3}), frozenset({1, 2})}\n",
      "4\n",
      "5\n",
      "{frozenset({2, 4}), frozenset({1, 4}), frozenset({2, 3}), frozenset({1, 2})}\n",
      "{1: {2, 4}, 2: {1, 3, 4}, 3: {2}, 4: {1, 2}, 5: set()}\n",
      "{2}\n"
     ]
    }
   ],
   "source": [
    "class Graph:\n",
    "    def __init__(self, V, E):\n",
    "        self.E = set(frozenset((u,v)) for u,v in E)\n",
    "        self.V = V\n",
    "        # beacuse the tuples inside the given list of edge can be unoredred\n",
    "        self.adj_list = {}\n",
    "        for v in V : # for every vertex in graph\n",
    "            self.add_vertex(v)\n",
    "        for u,v in self.E :\n",
    "            self.adj_list[v].add(u) # now two by two iterate thorugh all of edges\n",
    "            self.adj_list[u].add(v) # add eachother start and end to their neighbours \n",
    "            \n",
    "    def degree(self, v):\n",
    "        return(len(self.adj_list[v]))\n",
    "    \n",
    "    def neighbours(self,v):\n",
    "        return self.adj_list[v]\n",
    "    \n",
    "    def add_vertex(self,v):\n",
    "        if v not in self.adj_list:\n",
    "            self.adj_list[v] = set()\n",
    "    \n",
    "    def add_edge(self, u,v):\n",
    "        self.add_vertex(u)\n",
    "        self.add_vertex(v)\n",
    "        self.adj_list[u].add(v)\n",
    "        self.adj_list[v].add(u)\n",
    "        self.E.add(frozenset((u,v)))\n",
    "    @property   \n",
    "    def nv(self):\n",
    "        return len(self.adj_list)\n",
    "    @property\n",
    "    def nm(self):\n",
    "        return len(self.E)\n",
    "    \n",
    "    def remove_edge(self,u,v):\n",
    "        e = frozenset((u,v))\n",
    "        if e in self.E:\n",
    "            self.E.remove(e)\n",
    "            self.adj_list[u].remove(v)\n",
    "            self.adj_list[v].remove(u)\n",
    "    \n",
    "    def remove_vertex(self, v):\n",
    "        deleiting = list(self.adj_list[v])\n",
    "        for u in deleiting:\n",
    "            self.remove_edge(v,u)\n",
    "        del self.adj_list[v]\n",
    "        self.V.remove(v)\n",
    "\n",
    "    def show_graph_withedges(self):\n",
    "        import networkx as nx\n",
    "        import matplotlib.pyplot as plt\n",
    "        G = nx.Graph()\n",
    "        G.add_nodes_from(self.V)\n",
    "        G.add_edges_from(self.E)\n",
    "\n",
    "        # Get the isolated nodes in the graph\n",
    "        isolated_nodes = [node for node in G.nodes() if G.degree(node) == 0]\n",
    "\n",
    "        # Create a figure and axis\n",
    "        fig, ax = plt.subplots(figsize=(5, 5))\n",
    "\n",
    "        # Compute node positions for layout\n",
    "        pos = nx.spring_layout(G)\n",
    "\n",
    "        # Draw the graph with isolated nodes\n",
    "        nx.draw_networkx(G, pos=pos, ax=ax, with_labels=True, node_color=\"firebrick\")\n",
    "\n",
    "        # Draw isolated nodes as separate blue circles\n",
    "        nx.draw_networkx_nodes(G, pos=pos, ax=ax, nodelist=isolated_nodes, node_color=\"firebrick\")\n",
    "\n",
    "        # Display the graph\n",
    "        plt.show()\n",
    "\n",
    "    def show_graph_wiithadj(self):\n",
    "        import networkx as nx\n",
    "        import matplotlib.pyplot as plt\n",
    "        G = nx.Graph()\n",
    "        G.add_nodes_from(self.adj_list.keys())\n",
    "        for node, neighbors in self.adj_list.items():\n",
    "            G.add_edges_from((node, neighbor) for neighbor in neighbors)\n",
    "        fig, ax = plt.subplots(figsize=(5, 5))\n",
    "        nx.draw_networkx(G, with_labels=True, node_color=\"royalblue\")\n",
    "        plt.show()\n",
    "    \n",
    "if __name__== \"__main__\":\n",
    "    G = Graph({1,2,3,4,5}, {(1,2),(2,3)})\n",
    "    print(G.E)\n",
    "    (G.add_vertex(4))\n",
    "    G.add_edge(4,1)\n",
    "    G.add_edge(4,2)\n",
    "    print(G.nm)\n",
    "    print(G.nv)\n",
    "    print(G.E)\n",
    "    print(G.adj_list)\n",
    "    print(G.neighbours(3))\n",
    "    # we use set beacuse they do not have occurance"
   ]
  },
  {
   "cell_type": "code",
   "execution_count": 65,
   "id": "ea849f1f",
   "metadata": {},
   "outputs": [
    {
     "data": {
      "image/png": "[encoded data removed]",
      "text/plain": [
       "<Figure size 500x500 with 1 Axes>"
      ]
     },
     "metadata": {},
     "output_type": "display_data"
    }
   ],
   "source": [
    "G.show_graph_withedges()"
   ]
  },
  {
   "cell_type": "code",
   "execution_count": 67,
   "id": "21616548",
   "metadata": {},
   "outputs": [
    {
     "name": "stdout",
     "output_type": "stream",
     "text": [
      "{frozenset({2, 4}), frozenset({1, 4}), frozenset({1, 2})}\n",
      "{frozenset({1, 2})}\n",
      "{1: {2}, 2: {1}, 3: set(), 5: set()}\n"
     ]
    }
   ],
   "source": [
    "G.remove_edge(3,2)\n",
    "print(G.E)\n",
    "G.remove_vertex(4)\n",
    "print(G.E)\n",
    "print(G.adj_list)"
   ]
  },
  {
   "cell_type": "code",
   "execution_count": 68,
   "id": "813aa30f",
   "metadata": {},
   "outputs": [
    {
     "data": {
      "image/png": "[encoded data removed]",
      "text/plain": [
       "<Figure size 500x500 with 1 Axes>"
      ]
     },
     "metadata": {},
     "output_type": "display_data"
    }
   ],
   "source": [
    "G.show_graph_wiithadj()"
   ]
  },
  {
   "cell_type": "code",
   "execution_count": null,
   "id": "dcd0d4c6",
   "metadata": {},
   "outputs": [],
   "source": []
  }
 ],
 "metadata": {
  "kernelspec": {
   "display_name": "Python 3 (ipykernel)",
   "language": "python",
   "name": "python3"
  },
  "language_info": {
   "codemirror_mode": {
    "name": "ipython",
    "version": 3
   },
   "file_extension": ".py",
   "mimetype": "text/x-python",
   "name": "python",
   "nbconvert_exporter": "python",
   "pygments_lexer": "ipython3",
   "version": "3.10.9"
  }
 },
 "nbformat": 4,
 "nbformat_minor": 5
}
