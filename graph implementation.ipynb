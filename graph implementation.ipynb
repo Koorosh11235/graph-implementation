{
 "cells": [
  {
   "cell_type": "code",
   "execution_count": 2,
   "id": "3849cde6",
   "metadata": {},
   "outputs": [],
   "source": [
    "from collections import namedtuple\n",
    "# we need named tuples "
   ]
  },
  {
   "cell_type": "code",
   "execution_count": 88,
   "id": "64e4aa7e",
   "metadata": {},
   "outputs": [
    {
     "name": "stdout",
     "output_type": "stream",
     "text": [
      "4\n",
      "5\n",
      "{frozenset({2, 4}), frozenset({1, 4}), frozenset({2, 3}), frozenset({1, 2})}\n",
      "{1: {2, 4}, 2: {1, 3, 4}, 3: {2}, 4: {1, 2}, 5: set()}\n",
      "{2}\n"
     ]
    }
   ],
   "source": [
    "class Graph:\n",
    "    def __init__(self, V, E):\n",
    "        self.E = set(frozenset((u,v)) for u,v in E)\n",
    "        # beacuse the tuples inside the given list of edge can be unoredred\n",
    "        self._neighbours = {}\n",
    "        for v in V : # for every vertex in graph\n",
    "            self.add_vertex(v)\n",
    "        for u,v in self.E :\n",
    "            self._neighbours[v].add(u) # now two by two iterate thorugh all of edges\n",
    "            self._neighbours[u].add(v) # add eachother start and end to their neighbours \n",
    "            \n",
    "    def degree(self, v):\n",
    "        return(len(self._neighbours[v]))\n",
    "    \n",
    "    def neighbours(self,v):\n",
    "        return self._neighbours[v]\n",
    "    \n",
    "    def add_vertex(self,v):\n",
    "        if v not in self._neighbours:\n",
    "            self._neighbours[v] = set()\n",
    "    \n",
    "    def add_edge(self, u,v):\n",
    "        self.add_vertex(u)\n",
    "        self.add_vertex(v)\n",
    "        self._neighbours[u].add(v)\n",
    "        self._neighbours[v].add(u)\n",
    "        self.E.add(frozenset((u,v)))\n",
    "    @property   \n",
    "    def nv(self):\n",
    "        return len(self._neighbours)\n",
    "    @property\n",
    "    def nm(self):\n",
    "        return len(self.E)\n",
    "    \n",
    "    def remove_edge(self,u,v):\n",
    "        e = frozenset((u,v))\n",
    "        if e in self.E:\n",
    "            self.E.remove(e)\n",
    "            self._neighbours[u].remove(v)\n",
    "            self._neighbours[v].remove(u)\n",
    "    \n",
    "    def remove_vertex(self, v):\n",
    "        deleiting = list(self._neighbours[v])\n",
    "        for u in deleiting:\n",
    "            self.remove_edge(v,u)\n",
    "        del self._neighbours[v]\n",
    "    \n",
    "if __name__== \"__main__\":\n",
    "    G = Graph({1,2,3,4,5}, {(1,2),(2,3)})\n",
    "    (G.add_vertex(4))\n",
    "    G.add_edge(4,1)\n",
    "    G.add_edge(4,2)\n",
    "    print(G.nm)\n",
    "    print(G.nv)\n",
    "    print(G.E)\n",
    "    print(G._neighbours)\n",
    "    print(G.neighbours(3))\n",
    "    # we use set beacuse they do not have occurance"
   ]
  },
  {
   "cell_type": "code",
   "execution_count": 89,
   "id": "21616548",
   "metadata": {},
   "outputs": [
    {
     "name": "stdout",
     "output_type": "stream",
     "text": [
      "{frozenset({2, 4}), frozenset({1, 4}), frozenset({1, 2})}\n",
      "{frozenset({1, 2})}\n",
      "{1: {2}, 2: {1}, 3: set(), 5: set()}\n"
     ]
    }
   ],
   "source": [
    "G.remove_edge(3,2)\n",
    "print(G.E)\n",
    "G.remove_vertex(4)\n",
    "print(G.E)\n",
    "print(G._neighbours)"
   ]
  },
  {
   "cell_type": "code",
   "execution_count": null,
   "id": "813aa30f",
   "metadata": {},
   "outputs": [],
   "source": []
  }
 ],
 "metadata": {
  "kernelspec": {
   "display_name": "Python 3 (ipykernel)",
   "language": "python",
   "name": "python3"
  },
  "language_info": {
   "codemirror_mode": {
    "name": "ipython",
    "version": 3
   },
   "file_extension": ".py",
   "mimetype": "text/x-python",
   "name": "python",
   "nbconvert_exporter": "python",
   "pygments_lexer": "ipython3",
   "version": "3.10.9"
  }
 },
 "nbformat": 4,
 "nbformat_minor": 5
}
